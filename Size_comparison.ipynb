{
 "cells": [
  {
   "cell_type": "markdown",
   "metadata": {},
   "source": [
    "# Model Size"
   ]
  },
  {
   "cell_type": "code",
   "execution_count": 1,
   "metadata": {},
   "outputs": [],
   "source": [
    "import os\n",
    "from pathlib import Path"
   ]
  },
  {
   "cell_type": "markdown",
   "metadata": {},
   "source": [
    "## ResNet50"
   ]
  },
  {
   "cell_type": "code",
   "execution_count": 2,
   "metadata": {},
   "outputs": [
    {
     "name": "stdout",
     "output_type": "stream",
     "text": [
      "ResNet50 model size 103.070944 Mb\n",
      "Dynamic Range model size 26.18976 Mb\n",
      "Float-16 model size 51.120496 Mb\n",
      "Int-8 model size 26.298024 Mb\n",
      "Float-fallback model size 26.297744 Mb\n"
     ]
    }
   ],
   "source": [
    "print(\"ResNet50 model size {} Mb\".format((Path(r'Models/resnet_50.h5').stat().st_size)/1000000))\n",
    "print(\"Dynamic Range model size {} Mb\".format((Path(r'Models/resnet_50_dynamic_quant.tflite').stat().st_size)/1000000))\n",
    "print(\"Float-16 model size {} Mb\".format((Path(r'Models/resnet_50_f16_quant.tflite').stat().st_size)/1000000))\n",
    "print(\"Int-8 model size {} Mb\".format((Path(r'Models/resnet_50_fullInt_quant.tflite').stat().st_size)/1000000))\n",
    "print(\"Float-fallback model size {} Mb\".format((Path(r'Models/resnet_50_int8_quant.tflite').stat().st_size)/1000000))"
   ]
  },
  {
   "cell_type": "markdown",
   "metadata": {},
   "source": [
    "## VGG16"
   ]
  },
  {
   "cell_type": "code",
   "execution_count": 3,
   "metadata": {},
   "outputs": [
    {
     "name": "stdout",
     "output_type": "stream",
     "text": [
      "ResNet50 model size 553.504752 Mb\n",
      "Dynamic Range model size 138.4928 Mb\n",
      "Float-16 model size 276.729056 Mb\n",
      "Int-8 model size 138.510624 Mb\n",
      "Float-fallback model size 138.510488 Mb\n"
     ]
    }
   ],
   "source": [
    "print(\"ResNet50 model size {} Mb\".format((Path(r'Models/vgg16.h5').stat().st_size)/1000000))\n",
    "print(\"Dynamic Range model size {} Mb\".format((Path(r'Models/vgg16_dynamic_quant.tflite').stat().st_size)/1000000))\n",
    "print(\"Float-16 model size {} Mb\".format((Path(r'Models/vgg16_f16_quant.tflite').stat().st_size)/1000000))\n",
    "print(\"Int-8 model size {} Mb\".format((Path(r'Models/vgg16_fullInt_quant.tflite').stat().st_size)/1000000))\n",
    "print(\"Float-fallback model size {} Mb\".format((Path(r'Models/vgg16_int8_quant.tflite').stat().st_size)/1000000))"
   ]
  },
  {
   "cell_type": "markdown",
   "metadata": {},
   "source": [
    "## MobileNetV2"
   ]
  },
  {
   "cell_type": "code",
   "execution_count": 4,
   "metadata": {},
   "outputs": [
    {
     "name": "stdout",
     "output_type": "stream",
     "text": [
      "ResNet50 model size 14.63512 Mb\n",
      "Dynamic Range model size 3.927728 Mb\n",
      "Float-16 model size 7.031728 Mb\n",
      "Int-8 model size 3.993864 Mb\n",
      "Float-fallback model size 3.993616 Mb\n"
     ]
    }
   ],
   "source": [
    "print(\"ResNet50 model size {} Mb\".format((Path(r'Models/mobilenet_v2.h5').stat().st_size)/1000000))\n",
    "print(\"Dynamic Range model size {} Mb\".format((Path(r'Models/mobilenet_v2_dynamic_quant.tflite').stat().st_size)/1000000))\n",
    "print(\"Float-16 model size {} Mb\".format((Path(r'Models/mobilenet_v2_f16_quant.tflite').stat().st_size)/1000000))\n",
    "print(\"Int-8 model size {} Mb\".format((Path(r'Models/mobilenet_v2_fullInt_quant.tflite').stat().st_size)/1000000))\n",
    "print(\"Float-fallback model size {} Mb\".format((Path(r'Models/mobilenet_v2_int8_quant.tflite').stat().st_size)/1000000))"
   ]
  },
  {
   "cell_type": "code",
   "execution_count": null,
   "metadata": {},
   "outputs": [],
   "source": []
  }
 ],
 "metadata": {
  "kernelspec": {
   "display_name": "Python 3.9.12 ('work': venv)",
   "language": "python",
   "name": "python3"
  },
  "language_info": {
   "codemirror_mode": {
    "name": "ipython",
    "version": 3
   },
   "file_extension": ".py",
   "mimetype": "text/x-python",
   "name": "python",
   "nbconvert_exporter": "python",
   "pygments_lexer": "ipython3",
   "version": "3.9.12"
  },
  "vscode": {
   "interpreter": {
    "hash": "cbb4c99ba6a158315ca45ade86b338397709de922c2faeb37289f32131d55cc1"
   }
  }
 },
 "nbformat": 4,
 "nbformat_minor": 2
}
